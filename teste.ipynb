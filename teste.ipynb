{
 "cells": [
  {
   "cell_type": "markdown",
   "metadata": {},
   "source": [
    "## cal ##"
   ]
  },
  {
   "cell_type": "code",
   "execution_count": 2,
   "metadata": {},
   "outputs": [
    {
     "name": "stdout",
     "output_type": "stream",
     "text": [
      "4\n"
     ]
    }
   ],
   "source": [
    "import cv2\n",
    "\n",
    "pasta = r'C:\\Users\\labga\\OneDrive\\Documentos\\IC_WRL\\PROJETO_WRL'\n",
    "\n",
    "moldeRGB = cv2.imread(fr'{pasta}\\MOLDE.png', cv2.IMREAD_UNCHANGED)\n",
    "print(moldeRGB.shape[2])"
   ]
  },
  {
   "cell_type": "code",
   "execution_count": null,
   "metadata": {},
   "outputs": [],
   "source": [
    " # Carregar a imagem do molde\n",
    "            moldeRGB = cv2.imread(fr'{pasta}\\MOLDE.png', cv2.IMREAD_UNCHANGED)\n",
    "            molde = cv2.cvtColor(moldeRGB, cv2.COLOR_BGR2GRAY)\n",
    "            \n",
    "            # Verificar se a imagem do molde foi carregada corretamente\n",
    "            if molde is None:\n",
    "                print(\"Erro ao carregar a imagem do molde\")\n",
    "                return\n",
    "\n",
    "             # Redimensionar a imagem do molde para caber na infra_image\n",
    "            molde_resized = cv2.resize(molde, (infra_image.shape[1], infra_image.shape[0]))\n",
    "            \n",
    "            # # Converter infra_image para 3 canais se necessário\n",
    "            # if len(infra_image.shape) == 2 or infra_image.shape[2] == 1:\n",
    "            #     infra_image = cv2.cvtColor(infra_image, cv2.COLOR_GRAY2BGR)\n",
    "\n",
    "             # Verificar se a máscara tem um canal alpha (transparência)\n",
    "            if molde_resized.shape[2] == 4:\n",
    "                alpha_mask = molde_resized[:, :, 3] / 255.0\n",
    "                for c in range(0, 3):\n",
    "                    infra_image[:, :, c] = (1. - alpha_mask) * infra_image[:, :, c] + alpha_mask * molde_resized[:, :, c]\n",
    "            else:\n",
    "                # Se a máscara não tiver canal alpha, converter para 3 canais e sobrepor diretamente\n",
    "                if len(molde_resized.shape) == 2 or molde_resized.shape[2] == 1:\n",
    "                    molde_resized = cv2.cvtColor(molde_resized, cv2.COLOR_GRAY2BGR)\n",
    "                infra_image = cv2.addWeighted(infra_image, 1, molde_resized, 0.5, 0)"
   ]
  }
 ],
 "metadata": {
  "kernelspec": {
   "display_name": "Python 3",
   "language": "python",
   "name": "python3"
  },
  "language_info": {
   "codemirror_mode": {
    "name": "ipython",
    "version": 3
   },
   "file_extension": ".py",
   "mimetype": "text/x-python",
   "name": "python",
   "nbconvert_exporter": "python",
   "pygments_lexer": "ipython3",
   "version": "3.11.7"
  }
 },
 "nbformat": 4,
 "nbformat_minor": 2
}
